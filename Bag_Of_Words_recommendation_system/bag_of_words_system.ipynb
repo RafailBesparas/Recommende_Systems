{
 "cells": [
  {
   "cell_type": "markdown",
   "id": "3931c78b",
   "metadata": {},
   "source": [
    "# Extract Bag of Words (BoW) Features from Course Textual Content\n",
    "\n",
    "- The main goal of a recommendation system is to help users find items they potentially are interested in. \n",
    "- Depending on the task an item can be a movie, restaurant, course etc.\n",
    "- Machine learnign algorithms can only work with numerical data so I need to extract the features from the text and present them in a numerical format.\n",
    "- Many items are often described by text so they are associated with textual data, such as the titles and descriptions of a movie or course. \n",
    "- Since machine learning algorithms can not process textual data directly, I need to transform the raw text into numeric feature vectors."
   ]
  },
  {
   "cell_type": "markdown",
   "id": "dd4676f2",
   "metadata": {},
   "source": [
    "# Prepare lab setup"
   ]
  },
  {
   "cell_type": "code",
   "execution_count": 1,
   "id": "13a15e38",
   "metadata": {},
   "outputs": [],
   "source": [
    "import gensim\n",
    "import pandas as pd\n",
    "import nltk as nltk\n",
    "from nltk.corpus import stopwords\n",
    "from nltk.tokenize import word_tokenize\n",
    "from gensim import corpora\n",
    "\n",
    "%matplotlib inline"
   ]
  },
  {
   "cell_type": "code",
   "execution_count": 2,
   "id": "6463165c",
   "metadata": {},
   "outputs": [
    {
     "name": "stderr",
     "output_type": "stream",
     "text": [
      "[nltk_data] Downloading package punkt to\n",
      "[nltk_data]     C:\\Users\\user\\AppData\\Roaming\\nltk_data...\n",
      "[nltk_data]   Package punkt is already up-to-date!\n",
      "[nltk_data] Downloading package stopwords to\n",
      "[nltk_data]     C:\\Users\\user\\AppData\\Roaming\\nltk_data...\n",
      "[nltk_data]   Package stopwords is already up-to-date!\n",
      "[nltk_data] Downloading package averaged_perceptron_tagger to\n",
      "[nltk_data]     C:\\Users\\user\\AppData\\Roaming\\nltk_data...\n",
      "[nltk_data]   Package averaged_perceptron_tagger is already up-to-\n",
      "[nltk_data]       date!\n"
     ]
    },
    {
     "data": {
      "text/plain": [
       "True"
      ]
     },
     "execution_count": 2,
     "metadata": {},
     "output_type": "execute_result"
    }
   ],
   "source": [
    "nltk.download('punkt')\n",
    "nltk.download('stopwords')\n",
    "nltk.download('averaged_perceptron_tagger')"
   ]
  },
  {
   "cell_type": "code",
   "execution_count": 3,
   "id": "570ad4f1",
   "metadata": {},
   "outputs": [
    {
     "data": {
      "text/html": [
       "<div>\n",
       "<style scoped>\n",
       "    .dataframe tbody tr th:only-of-type {\n",
       "        vertical-align: middle;\n",
       "    }\n",
       "\n",
       "    .dataframe tbody tr th {\n",
       "        vertical-align: top;\n",
       "    }\n",
       "\n",
       "    .dataframe thead th {\n",
       "        text-align: right;\n",
       "    }\n",
       "</style>\n",
       "<table border=\"1\" class=\"dataframe\">\n",
       "  <thead>\n",
       "    <tr style=\"text-align: right;\">\n",
       "      <th></th>\n",
       "      <th>COURSE_ID</th>\n",
       "      <th>TITLE</th>\n",
       "      <th>DESCRIPTION</th>\n",
       "    </tr>\n",
       "  </thead>\n",
       "  <tbody>\n",
       "    <tr>\n",
       "      <th>0</th>\n",
       "      <td>ML0201EN</td>\n",
       "      <td>robots are coming  build iot apps with watson ...</td>\n",
       "      <td>have fun with iot and learn along the way  if ...</td>\n",
       "    </tr>\n",
       "    <tr>\n",
       "      <th>1</th>\n",
       "      <td>ML0122EN</td>\n",
       "      <td>accelerating deep learning with gpu</td>\n",
       "      <td>training complex deep learning models with lar...</td>\n",
       "    </tr>\n",
       "  </tbody>\n",
       "</table>\n",
       "</div>"
      ],
      "text/plain": [
       "  COURSE_ID                                              TITLE  \\\n",
       "0  ML0201EN  robots are coming  build iot apps with watson ...   \n",
       "1  ML0122EN                accelerating deep learning with gpu   \n",
       "\n",
       "                                         DESCRIPTION  \n",
       "0  have fun with iot and learn along the way  if ...  \n",
       "1  training complex deep learning models with lar...  "
      ]
     },
     "execution_count": 3,
     "metadata": {},
     "output_type": "execute_result"
    }
   ],
   "source": [
    "course_content = pd.read_csv(\"course_processed.csv\")\n",
    "course_content.head(2)"
   ]
  },
  {
   "cell_type": "code",
   "execution_count": 5,
   "id": "e890905d",
   "metadata": {},
   "outputs": [
    {
     "data": {
      "text/plain": [
       "COURSE_ID                                               ML0201EN\n",
       "TITLE          robots are coming  build iot apps with watson ...\n",
       "DESCRIPTION    have fun with iot and learn along the way  if ...\n",
       "Name: 0, dtype: object"
      ]
     },
     "execution_count": 5,
     "metadata": {},
     "output_type": "execute_result"
    }
   ],
   "source": [
    "course_content.iloc[0, :]"
   ]
  },
  {
   "cell_type": "markdown",
   "id": "20d9c6e8",
   "metadata": {},
   "source": [
    "- merge the title with the description"
   ]
  },
  {
   "cell_type": "code",
   "execution_count": 8,
   "id": "ba918c59",
   "metadata": {},
   "outputs": [],
   "source": [
    "course_content['course_texts'] = course_content[['TITLE', 'DESCRIPTION']].agg(' '.join, axis=1)\n",
    "course_content_df = course_content.reset_index()\n",
    "course_content_df['index'] = course_content_df.index\n"
   ]
  },
  {
   "cell_type": "code",
   "execution_count": 9,
   "id": "eb4ac0c3",
   "metadata": {},
   "outputs": [
    {
     "data": {
      "text/plain": [
       "index                                                           0\n",
       "COURSE_ID                                                ML0201EN\n",
       "TITLE           robots are coming  build iot apps with watson ...\n",
       "DESCRIPTION     have fun with iot and learn along the way  if ...\n",
       "course_texts    robots are coming  build iot apps with watson ...\n",
       "Name: 0, dtype: object"
      ]
     },
     "execution_count": 9,
     "metadata": {},
     "output_type": "execute_result"
    }
   ],
   "source": [
    "course_content_df.iloc[0, :]"
   ]
  },
  {
   "cell_type": "code",
   "execution_count": 13,
   "id": "d8f1b7a6",
   "metadata": {},
   "outputs": [],
   "source": [
    "import re\n",
    "from sklearn.feature_extraction.text import ENGLISH_STOP_WORDS\n",
    "\n",
    "def tokenize_course(course, keep_only_nouns=True):\n",
    "    # Use sklearn's built-in English stopwords\n",
    "    stop_words = set(ENGLISH_STOP_WORDS)\n",
    "    \n",
    "    # Use regex to tokenize (matches words only)\n",
    "    word_tokens = re.findall(r'\\b\\w+\\b', course.lower())\n",
    "    \n",
    "    # Remove stopwords and numbers\n",
    "    word_tokens = [w for w in word_tokens if w not in stop_words and not w.isnumeric()]\n",
    "    \n",
    "    # Skip POS tagging since NLTK is not allowed\n",
    "    if keep_only_nouns:\n",
    "        # Can't filter nouns accurately without POS tagging\n",
    "        print(\"⚠️ Noun filtering is skipped (POS tagging requires NLTK or spaCy).\")\n",
    "    \n",
    "    return word_tokens\n"
   ]
  },
  {
   "cell_type": "markdown",
   "id": "d0766eb5",
   "metadata": {},
   "source": [
    "- first course"
   ]
  },
  {
   "cell_type": "code",
   "execution_count": 14,
   "id": "6700c532",
   "metadata": {},
   "outputs": [
    {
     "data": {
      "text/plain": [
       "'robots are coming  build iot apps with watson  swift  and node red have fun with iot and learn along the way  if you re a swift developer and want to learn more about iot and watson ai services in the cloud  raspberry pi   and node red  you ve found the right place  you ll build iot apps to read temperature data  take pictures with a raspcam  use ai to recognize the objects in those pictures  and program an irobot create 2 robot  '"
      ]
     },
     "execution_count": 14,
     "metadata": {},
     "output_type": "execute_result"
    }
   ],
   "source": [
    "a_course = course_content_df.iloc[0, :]['course_texts']\n",
    "a_course"
   ]
  },
  {
   "cell_type": "code",
   "execution_count": 18,
   "id": "68c2a5fa",
   "metadata": {},
   "outputs": [
    {
     "name": "stdout",
     "output_type": "stream",
     "text": [
      "⚠️ Noun filtering is skipped (POS tagging requires NLTK or spaCy).\n",
      "\n",
      "Tokenized Output:\n",
      " ['robots', 'coming', 'build', 'iot', 'apps', 'watson', 'swift', 'node', 'red', 'fun', 'iot', 'learn', 'way', 'swift', 'developer', 'want', 'learn', 'iot', 'watson', 'ai', 'services', 'cloud', 'raspberry', 'pi', 'node', 'red', 've', 'right', 'place', 'll', 'build', 'iot', 'apps', 'read', 'temperature', 'data', 'pictures', 'raspcam', 'use', 'ai', 'recognize', 'objects', 'pictures', 'program', 'irobot', 'create', 'robot']\n"
     ]
    }
   ],
   "source": [
    "# Tokenize\n",
    "tokens = tokenize_course(a_course)\n",
    "print(\"\\nTokenized Output:\\n\", tokens)"
   ]
  },
  {
   "cell_type": "markdown",
   "id": "e6eddbc1",
   "metadata": {},
   "source": [
    "- Generate the bag of words"
   ]
  },
  {
   "cell_type": "code",
   "execution_count": 21,
   "id": "c50de48a",
   "metadata": {},
   "outputs": [
    {
     "name": "stdout",
     "output_type": "stream",
     "text": [
      "⚠️ Noun filtering is skipped (POS tagging requires NLTK or spaCy).\n",
      "⚠️ Noun filtering is skipped (POS tagging requires NLTK or spaCy).\n",
      "⚠️ Noun filtering is skipped (POS tagging requires NLTK or spaCy).\n",
      "⚠️ Noun filtering is skipped (POS tagging requires NLTK or spaCy).\n",
      "⚠️ Noun filtering is skipped (POS tagging requires NLTK or spaCy).\n",
      "⚠️ Noun filtering is skipped (POS tagging requires NLTK or spaCy).\n",
      "⚠️ Noun filtering is skipped (POS tagging requires NLTK or spaCy).\n",
      "⚠️ Noun filtering is skipped (POS tagging requires NLTK or spaCy).\n",
      "⚠️ Noun filtering is skipped (POS tagging requires NLTK or spaCy).\n",
      "⚠️ Noun filtering is skipped (POS tagging requires NLTK or spaCy).\n",
      "⚠️ Noun filtering is skipped (POS tagging requires NLTK or spaCy).\n",
      "⚠️ Noun filtering is skipped (POS tagging requires NLTK or spaCy).\n",
      "⚠️ Noun filtering is skipped (POS tagging requires NLTK or spaCy).\n",
      "⚠️ Noun filtering is skipped (POS tagging requires NLTK or spaCy).\n",
      "⚠️ Noun filtering is skipped (POS tagging requires NLTK or spaCy).\n",
      "⚠️ Noun filtering is skipped (POS tagging requires NLTK or spaCy).\n",
      "⚠️ Noun filtering is skipped (POS tagging requires NLTK or spaCy).\n",
      "⚠️ Noun filtering is skipped (POS tagging requires NLTK or spaCy).\n",
      "⚠️ Noun filtering is skipped (POS tagging requires NLTK or spaCy).\n",
      "⚠️ Noun filtering is skipped (POS tagging requires NLTK or spaCy).\n",
      "⚠️ Noun filtering is skipped (POS tagging requires NLTK or spaCy).\n",
      "⚠️ Noun filtering is skipped (POS tagging requires NLTK or spaCy).\n",
      "⚠️ Noun filtering is skipped (POS tagging requires NLTK or spaCy).\n",
      "⚠️ Noun filtering is skipped (POS tagging requires NLTK or spaCy).\n",
      "⚠️ Noun filtering is skipped (POS tagging requires NLTK or spaCy).\n",
      "⚠️ Noun filtering is skipped (POS tagging requires NLTK or spaCy).\n",
      "⚠️ Noun filtering is skipped (POS tagging requires NLTK or spaCy).\n",
      "⚠️ Noun filtering is skipped (POS tagging requires NLTK or spaCy).\n",
      "⚠️ Noun filtering is skipped (POS tagging requires NLTK or spaCy).\n",
      "⚠️ Noun filtering is skipped (POS tagging requires NLTK or spaCy).\n",
      "⚠️ Noun filtering is skipped (POS tagging requires NLTK or spaCy).\n",
      "⚠️ Noun filtering is skipped (POS tagging requires NLTK or spaCy).\n",
      "⚠️ Noun filtering is skipped (POS tagging requires NLTK or spaCy).\n",
      "⚠️ Noun filtering is skipped (POS tagging requires NLTK or spaCy).\n",
      "⚠️ Noun filtering is skipped (POS tagging requires NLTK or spaCy).\n",
      "⚠️ Noun filtering is skipped (POS tagging requires NLTK or spaCy).\n",
      "⚠️ Noun filtering is skipped (POS tagging requires NLTK or spaCy).\n",
      "⚠️ Noun filtering is skipped (POS tagging requires NLTK or spaCy).\n",
      "⚠️ Noun filtering is skipped (POS tagging requires NLTK or spaCy).\n",
      "⚠️ Noun filtering is skipped (POS tagging requires NLTK or spaCy).\n",
      "⚠️ Noun filtering is skipped (POS tagging requires NLTK or spaCy).\n",
      "⚠️ Noun filtering is skipped (POS tagging requires NLTK or spaCy).\n",
      "⚠️ Noun filtering is skipped (POS tagging requires NLTK or spaCy).\n",
      "⚠️ Noun filtering is skipped (POS tagging requires NLTK or spaCy).\n",
      "⚠️ Noun filtering is skipped (POS tagging requires NLTK or spaCy).\n",
      "⚠️ Noun filtering is skipped (POS tagging requires NLTK or spaCy).\n",
      "⚠️ Noun filtering is skipped (POS tagging requires NLTK or spaCy).\n",
      "⚠️ Noun filtering is skipped (POS tagging requires NLTK or spaCy).\n",
      "⚠️ Noun filtering is skipped (POS tagging requires NLTK or spaCy).\n",
      "⚠️ Noun filtering is skipped (POS tagging requires NLTK or spaCy).\n",
      "⚠️ Noun filtering is skipped (POS tagging requires NLTK or spaCy).\n",
      "⚠️ Noun filtering is skipped (POS tagging requires NLTK or spaCy).\n",
      "⚠️ Noun filtering is skipped (POS tagging requires NLTK or spaCy).\n",
      "⚠️ Noun filtering is skipped (POS tagging requires NLTK or spaCy).\n",
      "⚠️ Noun filtering is skipped (POS tagging requires NLTK or spaCy).\n",
      "⚠️ Noun filtering is skipped (POS tagging requires NLTK or spaCy).\n",
      "⚠️ Noun filtering is skipped (POS tagging requires NLTK or spaCy).\n",
      "⚠️ Noun filtering is skipped (POS tagging requires NLTK or spaCy).\n",
      "⚠️ Noun filtering is skipped (POS tagging requires NLTK or spaCy).\n",
      "⚠️ Noun filtering is skipped (POS tagging requires NLTK or spaCy).\n",
      "⚠️ Noun filtering is skipped (POS tagging requires NLTK or spaCy).\n",
      "⚠️ Noun filtering is skipped (POS tagging requires NLTK or spaCy).\n",
      "⚠️ Noun filtering is skipped (POS tagging requires NLTK or spaCy).\n",
      "⚠️ Noun filtering is skipped (POS tagging requires NLTK or spaCy).\n",
      "⚠️ Noun filtering is skipped (POS tagging requires NLTK or spaCy).\n",
      "⚠️ Noun filtering is skipped (POS tagging requires NLTK or spaCy).\n",
      "⚠️ Noun filtering is skipped (POS tagging requires NLTK or spaCy).\n",
      "⚠️ Noun filtering is skipped (POS tagging requires NLTK or spaCy).\n",
      "⚠️ Noun filtering is skipped (POS tagging requires NLTK or spaCy).\n",
      "⚠️ Noun filtering is skipped (POS tagging requires NLTK or spaCy).\n",
      "⚠️ Noun filtering is skipped (POS tagging requires NLTK or spaCy).\n",
      "⚠️ Noun filtering is skipped (POS tagging requires NLTK or spaCy).\n",
      "⚠️ Noun filtering is skipped (POS tagging requires NLTK or spaCy).\n",
      "⚠️ Noun filtering is skipped (POS tagging requires NLTK or spaCy).\n",
      "⚠️ Noun filtering is skipped (POS tagging requires NLTK or spaCy).\n",
      "⚠️ Noun filtering is skipped (POS tagging requires NLTK or spaCy).\n",
      "⚠️ Noun filtering is skipped (POS tagging requires NLTK or spaCy).\n",
      "⚠️ Noun filtering is skipped (POS tagging requires NLTK or spaCy).\n",
      "⚠️ Noun filtering is skipped (POS tagging requires NLTK or spaCy).\n",
      "⚠️ Noun filtering is skipped (POS tagging requires NLTK or spaCy).\n",
      "⚠️ Noun filtering is skipped (POS tagging requires NLTK or spaCy).\n",
      "⚠️ Noun filtering is skipped (POS tagging requires NLTK or spaCy).\n",
      "⚠️ Noun filtering is skipped (POS tagging requires NLTK or spaCy).\n",
      "⚠️ Noun filtering is skipped (POS tagging requires NLTK or spaCy).\n",
      "⚠️ Noun filtering is skipped (POS tagging requires NLTK or spaCy).\n",
      "⚠️ Noun filtering is skipped (POS tagging requires NLTK or spaCy).\n",
      "⚠️ Noun filtering is skipped (POS tagging requires NLTK or spaCy).\n",
      "⚠️ Noun filtering is skipped (POS tagging requires NLTK or spaCy).\n",
      "⚠️ Noun filtering is skipped (POS tagging requires NLTK or spaCy).\n",
      "⚠️ Noun filtering is skipped (POS tagging requires NLTK or spaCy).\n",
      "⚠️ Noun filtering is skipped (POS tagging requires NLTK or spaCy).\n",
      "⚠️ Noun filtering is skipped (POS tagging requires NLTK or spaCy).\n",
      "⚠️ Noun filtering is skipped (POS tagging requires NLTK or spaCy).\n",
      "⚠️ Noun filtering is skipped (POS tagging requires NLTK or spaCy).\n",
      "⚠️ Noun filtering is skipped (POS tagging requires NLTK or spaCy).\n",
      "⚠️ Noun filtering is skipped (POS tagging requires NLTK or spaCy).\n",
      "⚠️ Noun filtering is skipped (POS tagging requires NLTK or spaCy).\n",
      "⚠️ Noun filtering is skipped (POS tagging requires NLTK or spaCy).\n",
      "⚠️ Noun filtering is skipped (POS tagging requires NLTK or spaCy).\n",
      "⚠️ Noun filtering is skipped (POS tagging requires NLTK or spaCy).\n",
      "⚠️ Noun filtering is skipped (POS tagging requires NLTK or spaCy).\n",
      "⚠️ Noun filtering is skipped (POS tagging requires NLTK or spaCy).\n",
      "⚠️ Noun filtering is skipped (POS tagging requires NLTK or spaCy).\n",
      "⚠️ Noun filtering is skipped (POS tagging requires NLTK or spaCy).\n",
      "⚠️ Noun filtering is skipped (POS tagging requires NLTK or spaCy).\n",
      "⚠️ Noun filtering is skipped (POS tagging requires NLTK or spaCy).\n",
      "⚠️ Noun filtering is skipped (POS tagging requires NLTK or spaCy).\n",
      "⚠️ Noun filtering is skipped (POS tagging requires NLTK or spaCy).\n",
      "⚠️ Noun filtering is skipped (POS tagging requires NLTK or spaCy).\n",
      "⚠️ Noun filtering is skipped (POS tagging requires NLTK or spaCy).\n",
      "⚠️ Noun filtering is skipped (POS tagging requires NLTK or spaCy).\n",
      "⚠️ Noun filtering is skipped (POS tagging requires NLTK or spaCy).\n",
      "⚠️ Noun filtering is skipped (POS tagging requires NLTK or spaCy).\n",
      "⚠️ Noun filtering is skipped (POS tagging requires NLTK or spaCy).\n",
      "⚠️ Noun filtering is skipped (POS tagging requires NLTK or spaCy).\n",
      "⚠️ Noun filtering is skipped (POS tagging requires NLTK or spaCy).\n",
      "⚠️ Noun filtering is skipped (POS tagging requires NLTK or spaCy).\n",
      "⚠️ Noun filtering is skipped (POS tagging requires NLTK or spaCy).\n",
      "⚠️ Noun filtering is skipped (POS tagging requires NLTK or spaCy).\n",
      "⚠️ Noun filtering is skipped (POS tagging requires NLTK or spaCy).\n",
      "⚠️ Noun filtering is skipped (POS tagging requires NLTK or spaCy).\n",
      "⚠️ Noun filtering is skipped (POS tagging requires NLTK or spaCy).\n",
      "⚠️ Noun filtering is skipped (POS tagging requires NLTK or spaCy).\n",
      "⚠️ Noun filtering is skipped (POS tagging requires NLTK or spaCy).\n",
      "⚠️ Noun filtering is skipped (POS tagging requires NLTK or spaCy).\n",
      "⚠️ Noun filtering is skipped (POS tagging requires NLTK or spaCy).\n",
      "⚠️ Noun filtering is skipped (POS tagging requires NLTK or spaCy).\n",
      "⚠️ Noun filtering is skipped (POS tagging requires NLTK or spaCy).\n",
      "⚠️ Noun filtering is skipped (POS tagging requires NLTK or spaCy).\n",
      "⚠️ Noun filtering is skipped (POS tagging requires NLTK or spaCy).\n",
      "⚠️ Noun filtering is skipped (POS tagging requires NLTK or spaCy).\n",
      "⚠️ Noun filtering is skipped (POS tagging requires NLTK or spaCy).\n",
      "⚠️ Noun filtering is skipped (POS tagging requires NLTK or spaCy).\n",
      "⚠️ Noun filtering is skipped (POS tagging requires NLTK or spaCy).\n",
      "⚠️ Noun filtering is skipped (POS tagging requires NLTK or spaCy).\n",
      "⚠️ Noun filtering is skipped (POS tagging requires NLTK or spaCy).\n",
      "⚠️ Noun filtering is skipped (POS tagging requires NLTK or spaCy).\n",
      "⚠️ Noun filtering is skipped (POS tagging requires NLTK or spaCy).\n",
      "⚠️ Noun filtering is skipped (POS tagging requires NLTK or spaCy).\n",
      "⚠️ Noun filtering is skipped (POS tagging requires NLTK or spaCy).\n",
      "⚠️ Noun filtering is skipped (POS tagging requires NLTK or spaCy).\n",
      "⚠️ Noun filtering is skipped (POS tagging requires NLTK or spaCy).\n",
      "⚠️ Noun filtering is skipped (POS tagging requires NLTK or spaCy).\n",
      "⚠️ Noun filtering is skipped (POS tagging requires NLTK or spaCy).\n",
      "⚠️ Noun filtering is skipped (POS tagging requires NLTK or spaCy).\n",
      "⚠️ Noun filtering is skipped (POS tagging requires NLTK or spaCy).\n",
      "⚠️ Noun filtering is skipped (POS tagging requires NLTK or spaCy).\n",
      "⚠️ Noun filtering is skipped (POS tagging requires NLTK or spaCy).\n",
      "⚠️ Noun filtering is skipped (POS tagging requires NLTK or spaCy).\n",
      "⚠️ Noun filtering is skipped (POS tagging requires NLTK or spaCy).\n",
      "⚠️ Noun filtering is skipped (POS tagging requires NLTK or spaCy).\n",
      "⚠️ Noun filtering is skipped (POS tagging requires NLTK or spaCy).\n",
      "⚠️ Noun filtering is skipped (POS tagging requires NLTK or spaCy).\n",
      "⚠️ Noun filtering is skipped (POS tagging requires NLTK or spaCy).\n",
      "⚠️ Noun filtering is skipped (POS tagging requires NLTK or spaCy).\n",
      "⚠️ Noun filtering is skipped (POS tagging requires NLTK or spaCy).\n",
      "⚠️ Noun filtering is skipped (POS tagging requires NLTK or spaCy).\n",
      "⚠️ Noun filtering is skipped (POS tagging requires NLTK or spaCy).\n",
      "⚠️ Noun filtering is skipped (POS tagging requires NLTK or spaCy).\n",
      "⚠️ Noun filtering is skipped (POS tagging requires NLTK or spaCy).\n",
      "⚠️ Noun filtering is skipped (POS tagging requires NLTK or spaCy).\n",
      "⚠️ Noun filtering is skipped (POS tagging requires NLTK or spaCy).\n",
      "⚠️ Noun filtering is skipped (POS tagging requires NLTK or spaCy).\n",
      "⚠️ Noun filtering is skipped (POS tagging requires NLTK or spaCy).\n",
      "⚠️ Noun filtering is skipped (POS tagging requires NLTK or spaCy).\n",
      "⚠️ Noun filtering is skipped (POS tagging requires NLTK or spaCy).\n",
      "⚠️ Noun filtering is skipped (POS tagging requires NLTK or spaCy).\n",
      "⚠️ Noun filtering is skipped (POS tagging requires NLTK or spaCy).\n",
      "⚠️ Noun filtering is skipped (POS tagging requires NLTK or spaCy).\n",
      "⚠️ Noun filtering is skipped (POS tagging requires NLTK or spaCy).\n",
      "⚠️ Noun filtering is skipped (POS tagging requires NLTK or spaCy).\n",
      "⚠️ Noun filtering is skipped (POS tagging requires NLTK or spaCy).\n",
      "⚠️ Noun filtering is skipped (POS tagging requires NLTK or spaCy).\n",
      "⚠️ Noun filtering is skipped (POS tagging requires NLTK or spaCy).\n",
      "⚠️ Noun filtering is skipped (POS tagging requires NLTK or spaCy).\n",
      "⚠️ Noun filtering is skipped (POS tagging requires NLTK or spaCy).\n",
      "⚠️ Noun filtering is skipped (POS tagging requires NLTK or spaCy).\n",
      "⚠️ Noun filtering is skipped (POS tagging requires NLTK or spaCy).\n",
      "⚠️ Noun filtering is skipped (POS tagging requires NLTK or spaCy).\n",
      "⚠️ Noun filtering is skipped (POS tagging requires NLTK or spaCy).\n",
      "⚠️ Noun filtering is skipped (POS tagging requires NLTK or spaCy).\n",
      "⚠️ Noun filtering is skipped (POS tagging requires NLTK or spaCy).\n",
      "⚠️ Noun filtering is skipped (POS tagging requires NLTK or spaCy).\n",
      "⚠️ Noun filtering is skipped (POS tagging requires NLTK or spaCy).\n",
      "⚠️ Noun filtering is skipped (POS tagging requires NLTK or spaCy).\n",
      "⚠️ Noun filtering is skipped (POS tagging requires NLTK or spaCy).\n",
      "⚠️ Noun filtering is skipped (POS tagging requires NLTK or spaCy).\n",
      "⚠️ Noun filtering is skipped (POS tagging requires NLTK or spaCy).\n",
      "⚠️ Noun filtering is skipped (POS tagging requires NLTK or spaCy).\n",
      "⚠️ Noun filtering is skipped (POS tagging requires NLTK or spaCy).\n",
      "⚠️ Noun filtering is skipped (POS tagging requires NLTK or spaCy).\n",
      "⚠️ Noun filtering is skipped (POS tagging requires NLTK or spaCy).\n",
      "⚠️ Noun filtering is skipped (POS tagging requires NLTK or spaCy).\n",
      "⚠️ Noun filtering is skipped (POS tagging requires NLTK or spaCy).\n",
      "⚠️ Noun filtering is skipped (POS tagging requires NLTK or spaCy).\n",
      "⚠️ Noun filtering is skipped (POS tagging requires NLTK or spaCy).\n",
      "⚠️ Noun filtering is skipped (POS tagging requires NLTK or spaCy).\n",
      "⚠️ Noun filtering is skipped (POS tagging requires NLTK or spaCy).\n",
      "⚠️ Noun filtering is skipped (POS tagging requires NLTK or spaCy).\n",
      "⚠️ Noun filtering is skipped (POS tagging requires NLTK or spaCy).\n",
      "⚠️ Noun filtering is skipped (POS tagging requires NLTK or spaCy).\n",
      "⚠️ Noun filtering is skipped (POS tagging requires NLTK or spaCy).\n",
      "⚠️ Noun filtering is skipped (POS tagging requires NLTK or spaCy).\n",
      "⚠️ Noun filtering is skipped (POS tagging requires NLTK or spaCy).\n",
      "⚠️ Noun filtering is skipped (POS tagging requires NLTK or spaCy).\n",
      "⚠️ Noun filtering is skipped (POS tagging requires NLTK or spaCy).\n",
      "⚠️ Noun filtering is skipped (POS tagging requires NLTK or spaCy).\n",
      "⚠️ Noun filtering is skipped (POS tagging requires NLTK or spaCy).\n",
      "⚠️ Noun filtering is skipped (POS tagging requires NLTK or spaCy).\n",
      "⚠️ Noun filtering is skipped (POS tagging requires NLTK or spaCy).\n",
      "⚠️ Noun filtering is skipped (POS tagging requires NLTK or spaCy).\n",
      "⚠️ Noun filtering is skipped (POS tagging requires NLTK or spaCy).\n",
      "⚠️ Noun filtering is skipped (POS tagging requires NLTK or spaCy).\n",
      "⚠️ Noun filtering is skipped (POS tagging requires NLTK or spaCy).\n",
      "⚠️ Noun filtering is skipped (POS tagging requires NLTK or spaCy).\n",
      "⚠️ Noun filtering is skipped (POS tagging requires NLTK or spaCy).\n",
      "⚠️ Noun filtering is skipped (POS tagging requires NLTK or spaCy).\n",
      "⚠️ Noun filtering is skipped (POS tagging requires NLTK or spaCy).\n",
      "⚠️ Noun filtering is skipped (POS tagging requires NLTK or spaCy).\n",
      "⚠️ Noun filtering is skipped (POS tagging requires NLTK or spaCy).\n",
      "⚠️ Noun filtering is skipped (POS tagging requires NLTK or spaCy).\n",
      "⚠️ Noun filtering is skipped (POS tagging requires NLTK or spaCy).\n",
      "⚠️ Noun filtering is skipped (POS tagging requires NLTK or spaCy).\n",
      "⚠️ Noun filtering is skipped (POS tagging requires NLTK or spaCy).\n",
      "⚠️ Noun filtering is skipped (POS tagging requires NLTK or spaCy).\n",
      "⚠️ Noun filtering is skipped (POS tagging requires NLTK or spaCy).\n",
      "⚠️ Noun filtering is skipped (POS tagging requires NLTK or spaCy).\n",
      "⚠️ Noun filtering is skipped (POS tagging requires NLTK or spaCy).\n",
      "⚠️ Noun filtering is skipped (POS tagging requires NLTK or spaCy).\n",
      "⚠️ Noun filtering is skipped (POS tagging requires NLTK or spaCy).\n",
      "⚠️ Noun filtering is skipped (POS tagging requires NLTK or spaCy).\n",
      "⚠️ Noun filtering is skipped (POS tagging requires NLTK or spaCy).\n",
      "⚠️ Noun filtering is skipped (POS tagging requires NLTK or spaCy).\n",
      "⚠️ Noun filtering is skipped (POS tagging requires NLTK or spaCy).\n",
      "⚠️ Noun filtering is skipped (POS tagging requires NLTK or spaCy).\n",
      "⚠️ Noun filtering is skipped (POS tagging requires NLTK or spaCy).\n",
      "⚠️ Noun filtering is skipped (POS tagging requires NLTK or spaCy).\n",
      "⚠️ Noun filtering is skipped (POS tagging requires NLTK or spaCy).\n",
      "⚠️ Noun filtering is skipped (POS tagging requires NLTK or spaCy).\n",
      "⚠️ Noun filtering is skipped (POS tagging requires NLTK or spaCy).\n",
      "⚠️ Noun filtering is skipped (POS tagging requires NLTK or spaCy).\n",
      "⚠️ Noun filtering is skipped (POS tagging requires NLTK or spaCy).\n",
      "⚠️ Noun filtering is skipped (POS tagging requires NLTK or spaCy).\n",
      "⚠️ Noun filtering is skipped (POS tagging requires NLTK or spaCy).\n",
      "⚠️ Noun filtering is skipped (POS tagging requires NLTK or spaCy).\n",
      "⚠️ Noun filtering is skipped (POS tagging requires NLTK or spaCy).\n",
      "⚠️ Noun filtering is skipped (POS tagging requires NLTK or spaCy).\n",
      "⚠️ Noun filtering is skipped (POS tagging requires NLTK or spaCy).\n",
      "⚠️ Noun filtering is skipped (POS tagging requires NLTK or spaCy).\n",
      "⚠️ Noun filtering is skipped (POS tagging requires NLTK or spaCy).\n",
      "⚠️ Noun filtering is skipped (POS tagging requires NLTK or spaCy).\n",
      "⚠️ Noun filtering is skipped (POS tagging requires NLTK or spaCy).\n",
      "⚠️ Noun filtering is skipped (POS tagging requires NLTK or spaCy).\n",
      "⚠️ Noun filtering is skipped (POS tagging requires NLTK or spaCy).\n",
      "⚠️ Noun filtering is skipped (POS tagging requires NLTK or spaCy).\n",
      "⚠️ Noun filtering is skipped (POS tagging requires NLTK or spaCy).\n",
      "⚠️ Noun filtering is skipped (POS tagging requires NLTK or spaCy).\n",
      "⚠️ Noun filtering is skipped (POS tagging requires NLTK or spaCy).\n",
      "⚠️ Noun filtering is skipped (POS tagging requires NLTK or spaCy).\n",
      "⚠️ Noun filtering is skipped (POS tagging requires NLTK or spaCy).\n",
      "⚠️ Noun filtering is skipped (POS tagging requires NLTK or spaCy).\n",
      "⚠️ Noun filtering is skipped (POS tagging requires NLTK or spaCy).\n",
      "⚠️ Noun filtering is skipped (POS tagging requires NLTK or spaCy).\n",
      "⚠️ Noun filtering is skipped (POS tagging requires NLTK or spaCy).\n",
      "⚠️ Noun filtering is skipped (POS tagging requires NLTK or spaCy).\n",
      "⚠️ Noun filtering is skipped (POS tagging requires NLTK or spaCy).\n",
      "⚠️ Noun filtering is skipped (POS tagging requires NLTK or spaCy).\n",
      "⚠️ Noun filtering is skipped (POS tagging requires NLTK or spaCy).\n",
      "⚠️ Noun filtering is skipped (POS tagging requires NLTK or spaCy).\n",
      "⚠️ Noun filtering is skipped (POS tagging requires NLTK or spaCy).\n",
      "⚠️ Noun filtering is skipped (POS tagging requires NLTK or spaCy).\n",
      "⚠️ Noun filtering is skipped (POS tagging requires NLTK or spaCy).\n",
      "⚠️ Noun filtering is skipped (POS tagging requires NLTK or spaCy).\n",
      "⚠️ Noun filtering is skipped (POS tagging requires NLTK or spaCy).\n",
      "⚠️ Noun filtering is skipped (POS tagging requires NLTK or spaCy).\n",
      "⚠️ Noun filtering is skipped (POS tagging requires NLTK or spaCy).\n",
      "⚠️ Noun filtering is skipped (POS tagging requires NLTK or spaCy).\n",
      "⚠️ Noun filtering is skipped (POS tagging requires NLTK or spaCy).\n",
      "⚠️ Noun filtering is skipped (POS tagging requires NLTK or spaCy).\n",
      "⚠️ Noun filtering is skipped (POS tagging requires NLTK or spaCy).\n",
      "⚠️ Noun filtering is skipped (POS tagging requires NLTK or spaCy).\n",
      "⚠️ Noun filtering is skipped (POS tagging requires NLTK or spaCy).\n",
      "⚠️ Noun filtering is skipped (POS tagging requires NLTK or spaCy).\n",
      "⚠️ Noun filtering is skipped (POS tagging requires NLTK or spaCy).\n",
      "⚠️ Noun filtering is skipped (POS tagging requires NLTK or spaCy).\n",
      "⚠️ Noun filtering is skipped (POS tagging requires NLTK or spaCy).\n",
      "⚠️ Noun filtering is skipped (POS tagging requires NLTK or spaCy).\n",
      "⚠️ Noun filtering is skipped (POS tagging requires NLTK or spaCy).\n",
      "⚠️ Noun filtering is skipped (POS tagging requires NLTK or spaCy).\n",
      "⚠️ Noun filtering is skipped (POS tagging requires NLTK or spaCy).\n",
      "⚠️ Noun filtering is skipped (POS tagging requires NLTK or spaCy).\n",
      "⚠️ Noun filtering is skipped (POS tagging requires NLTK or spaCy).\n",
      "⚠️ Noun filtering is skipped (POS tagging requires NLTK or spaCy).\n",
      "⚠️ Noun filtering is skipped (POS tagging requires NLTK or spaCy).\n",
      "⚠️ Noun filtering is skipped (POS tagging requires NLTK or spaCy).\n",
      "⚠️ Noun filtering is skipped (POS tagging requires NLTK or spaCy).\n",
      "⚠️ Noun filtering is skipped (POS tagging requires NLTK or spaCy).\n",
      "⚠️ Noun filtering is skipped (POS tagging requires NLTK or spaCy).\n",
      "⚠️ Noun filtering is skipped (POS tagging requires NLTK or spaCy).\n",
      "⚠️ Noun filtering is skipped (POS tagging requires NLTK or spaCy).\n",
      "⚠️ Noun filtering is skipped (POS tagging requires NLTK or spaCy).\n",
      "⚠️ Noun filtering is skipped (POS tagging requires NLTK or spaCy).\n",
      "⚠️ Noun filtering is skipped (POS tagging requires NLTK or spaCy).\n",
      "⚠️ Noun filtering is skipped (POS tagging requires NLTK or spaCy).\n",
      "⚠️ Noun filtering is skipped (POS tagging requires NLTK or spaCy).\n",
      "⚠️ Noun filtering is skipped (POS tagging requires NLTK or spaCy).\n",
      "⚠️ Noun filtering is skipped (POS tagging requires NLTK or spaCy).\n"
     ]
    }
   ],
   "source": [
    "# Apply tokenization to the whole dataset\n",
    "course_content_df['tokens'] = course_content_df['course_texts'].apply(tokenize_course)"
   ]
  },
  {
   "cell_type": "code",
   "execution_count": 22,
   "id": "399d159a",
   "metadata": {},
   "outputs": [
    {
     "name": "stdout",
     "output_type": "stream",
     "text": [
      "First course tokens: ['robots', 'coming', 'build', 'iot', 'apps', 'watson', 'swift', 'node', 'red', 'fun', 'iot', 'learn', 'way', 'swift', 'developer', 'want', 'learn', 'iot', 'watson', 'ai', 'services', 'cloud', 'raspberry', 'pi', 'node', 'red', 've', 'right', 'place', 'll', 'build', 'iot', 'apps', 'read', 'temperature', 'data', 'pictures', 'raspcam', 'use', 'ai', 'recognize', 'objects', 'pictures', 'program', 'irobot', 'create', 'robot']\n",
      "BoW vector for first course: [(0, 2), (1, 2), (2, 2), (3, 1), (4, 1), (5, 1), (6, 1), (7, 1), (8, 1), (9, 4), (10, 1), (11, 2), (12, 1), (13, 2), (14, 1), (15, 1), (16, 2), (17, 1), (18, 1), (19, 1), (20, 1), (21, 1), (22, 1), (23, 2), (24, 1), (25, 1), (26, 1), (27, 1), (28, 2), (29, 1), (30, 1), (31, 1), (32, 1), (33, 2), (34, 1)]\n",
      "Dictionary sample (token2id): [('ai', 0), ('apps', 1), ('build', 2), ('cloud', 3), ('coming', 4), ('create', 5), ('data', 6), ('developer', 7), ('fun', 8), ('iot', 9)]\n"
     ]
    }
   ],
   "source": [
    "from gensim import corpora\n",
    "\n",
    "# Convert tokens into a list\n",
    "tokenized_courses = course_content_df['tokens'].tolist()\n",
    "\n",
    "# Create a dictionary from tokenized courses\n",
    "dictionary = corpora.Dictionary(tokenized_courses)\n",
    "\n",
    "# Create a BoW corpus\n",
    "bow_corpus = [dictionary.doc2bow(doc) for doc in tokenized_courses]\n",
    "\n",
    "# Preview\n",
    "print(\"First course tokens:\", tokenized_courses[0])\n",
    "print(\"BoW vector for first course:\", bow_corpus[0])\n",
    "print(\"Dictionary sample (token2id):\", list(dictionary.token2id.items())[:10])\n"
   ]
  },
  {
   "cell_type": "markdown",
   "id": "a9c9aed6",
   "metadata": {},
   "source": [
    "# Process for all the courses\n",
    "- Most frequent tokes/words"
   ]
  },
  {
   "cell_type": "code",
   "execution_count": 23,
   "id": "801dceb5",
   "metadata": {},
   "outputs": [
    {
     "data": {
      "image/png": "[encoded data removed]",
      "text/plain": [
       "<Figure size 1200x600 with 1 Axes>"
      ]
     },
     "metadata": {},
     "output_type": "display_data"
    }
   ],
   "source": [
    "from collections import Counter\n",
    "import matplotlib.pyplot as plt\n",
    "\n",
    "# Flatten all token lists into one big list\n",
    "all_tokens = [token for tokens in course_content_df['tokens'] for token in tokens]\n",
    "\n",
    "# Count the most frequent tokens\n",
    "token_counts = Counter(all_tokens).most_common(20)\n",
    "\n",
    "# Separate tokens and their counts for plotting\n",
    "words, counts = zip(*token_counts)\n",
    "\n",
    "# Plot the top 20 tokens\n",
    "plt.figure(figsize=(12, 6))\n",
    "plt.bar(words, counts)\n",
    "plt.xticks(rotation=45)\n",
    "plt.title(\"Top 20 Most Frequent Tokens in Course Texts\")\n",
    "plt.xlabel(\"Token\")\n",
    "plt.ylabel(\"Frequency\")\n",
    "plt.tight_layout()\n",
    "plt.show()\n"
   ]
  }
 ],
 "metadata": {
  "kernelspec": {
   "display_name": "venv",
   "language": "python",
   "name": "python3"
  },
  "language_info": {
   "codemirror_mode": {
    "name": "ipython",
    "version": 3
   },
   "file_extension": ".py",
   "mimetype": "text/x-python",
   "name": "python",
   "nbconvert_exporter": "python",
   "pygments_lexer": "ipython3",
   "version": "3.12.8"
  }
 },
 "nbformat": 4,
 "nbformat_minor": 5
}
