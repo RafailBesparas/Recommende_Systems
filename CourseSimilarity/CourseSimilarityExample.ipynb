{
 "cells": [
  {
   "cell_type": "markdown",
   "id": "fae841d9",
   "metadata": {},
   "source": [
    "# Calculate Course Similarity using BoW Features\n",
    "\n",
    "Similarity is a very important topic for recommendation systems. In essence when we have a new user who likes Course 1 our system tries to respond to the user and propose a similar course 2.\n"
   ]
  },
  {
   "cell_type": "markdown",
   "id": "ab449995",
   "metadata": {},
   "source": [
    "# Prepare lab enviroment"
   ]
  },
  {
   "cell_type": "code",
   "execution_count": 12,
   "id": "2333af4e",
   "metadata": {},
   "outputs": [],
   "source": [
    "import seaborn as sns\n",
    "import matplotlib.pyplot as plt\n",
    "import pandas as pd\n",
    "import numpy as np\n",
    "import gensim\n",
    "import pandas as pd\n",
    "import nltk as nltk\n",
    "\n",
    "from scipy.spatial.distance import euclidean\n",
    "from sklearn.metrics import jaccard_score\n",
    "\n",
    "from scipy.spatial.distance import cosine\n",
    "from nltk.corpus import stopwords\n",
    "from nltk.tokenize import word_tokenize\n",
    "from nltk import ngrams\n",
    "from gensim import corpora\n",
    "\n",
    "%matplotlib inline"
   ]
  },
  {
   "cell_type": "code",
   "execution_count": 2,
   "id": "faabbdef",
   "metadata": {},
   "outputs": [],
   "source": [
    "rs = 42"
   ]
  },
  {
   "cell_type": "markdown",
   "id": "59c06a70",
   "metadata": {},
   "source": [
    "# Example understanding how to calculate similarities"
   ]
  },
  {
   "cell_type": "markdown",
   "id": "d1bcea55",
   "metadata": {},
   "source": [
    "Consine similarity calculation"
   ]
  },
  {
   "cell_type": "code",
   "execution_count": 4,
   "id": "4bdb80aa",
   "metadata": {},
   "outputs": [],
   "source": [
    "course1 = \"machine learning for everyone\"\n",
    "course2 = \"machine learning for beginners\""
   ]
  },
  {
   "cell_type": "code",
   "execution_count": 6,
   "id": "6d8dd4c8",
   "metadata": {},
   "outputs": [
    {
     "data": {
      "text/plain": [
       "['beginners', 'learning', 'machine', 'for', 'everyone']"
      ]
     },
     "execution_count": 6,
     "metadata": {},
     "output_type": "execute_result"
    }
   ],
   "source": [
    "# tokenize the words\n",
    "tokens = set(course1.split() + course2.split())\n",
    "# Make the tokens a list\n",
    "tokens = list(tokens)\n",
    "tokens"
   ]
  },
  {
   "cell_type": "code",
   "execution_count": 7,
   "id": "fa439715",
   "metadata": {},
   "outputs": [],
   "source": [
    "# Generate the Bag Of Word features\n",
    "def generate_sparse_bow(course):\n",
    "    \"\"\"\n",
    "    Generate a sparse bag-of-words (BoW) representation for a given course.\n",
    "\n",
    "    Parameters:\n",
    "    course (str): The input course text to generate the BoW representation for.\n",
    "\n",
    "    Returns:\n",
    "    list: A sparse BoW representation where each element corresponds to the presence (1) or absence (0)\n",
    "    of a word in the input course text.\n",
    "    \"\"\"\n",
    "\n",
    "    # Initialize an empty list to store the BoW vector\n",
    "    bow_vector = []\n",
    "\n",
    "    # Tokenize the course text by splitting it into words\n",
    "    words = course.split()\n",
    "\n",
    "    # Iterate through all unique words (tokens) in the course\n",
    "    for token in set(words):\n",
    "        # Check if the token is present in the course text\n",
    "        if token in words:\n",
    "            # If the token is present, append 1 to the BoW vector\n",
    "            bow_vector.append(1)\n",
    "        else:\n",
    "            # If the token is not present, append 0 to the BoW vector\n",
    "            bow_vector.append(0)\n",
    "\n",
    "    # Return the sparse BoW vector\n",
    "    return bow_vector\n"
   ]
  },
  {
   "cell_type": "code",
   "execution_count": 8,
   "id": "19ff16e7",
   "metadata": {},
   "outputs": [
    {
     "data": {
      "text/plain": [
       "[1, 1, 1, 1]"
      ]
     },
     "execution_count": 8,
     "metadata": {},
     "output_type": "execute_result"
    }
   ],
   "source": [
    "bow1 = generate_sparse_bow(course1)\n",
    "bow1"
   ]
  },
  {
   "cell_type": "code",
   "execution_count": 9,
   "id": "a2132d01",
   "metadata": {},
   "outputs": [
    {
     "data": {
      "text/plain": [
       "[1, 1, 1, 1]"
      ]
     },
     "execution_count": 9,
     "metadata": {},
     "output_type": "execute_result"
    }
   ],
   "source": [
    "bow2 = generate_sparse_bow(course2)\n",
    "bow2"
   ]
  },
  {
   "cell_type": "markdown",
   "id": "c4abcee1",
   "metadata": {},
   "source": [
    "Consine Similarities"
   ]
  },
  {
   "cell_type": "code",
   "execution_count": 10,
   "id": "0dbc2a5d",
   "metadata": {},
   "outputs": [],
   "source": [
    "cos_sim = 1 - cosine(bow1, bow2)"
   ]
  },
  {
   "cell_type": "code",
   "execution_count": 11,
   "id": "65772ae1",
   "metadata": {},
   "outputs": [
    {
     "name": "stdout",
     "output_type": "stream",
     "text": [
      "The cosine similarity between course `machine learning for everyone` and course `machine learning for beginners` is 100.0%\n"
     ]
    }
   ],
   "source": [
    "print(f\"The cosine similarity between course `{course1}` and course `{course2}` is {round(cos_sim, 2) * 100}%\")"
   ]
  },
  {
   "cell_type": "markdown",
   "id": "407c45bb",
   "metadata": {},
   "source": [
    "Euclidean Distance"
   ]
  },
  {
   "cell_type": "code",
   "execution_count": null,
   "id": "1cc64229",
   "metadata": {},
   "outputs": [],
   "source": [
    "euclidean_dist = euclidean(bow1, bow2)"
   ]
  },
  {
   "cell_type": "markdown",
   "id": "9cc50c80",
   "metadata": {},
   "source": [
    "Jaccard index using Bag of Words"
   ]
  },
  {
   "cell_type": "code",
   "execution_count": 14,
   "id": "d8726e80",
   "metadata": {},
   "outputs": [],
   "source": [
    "jaccard_idx_bow = jaccard_score(bow1, bow2)"
   ]
  },
  {
   "cell_type": "code",
   "execution_count": 15,
   "id": "9d022800",
   "metadata": {},
   "outputs": [],
   "source": [
    "# Calculate Jaccard Index using set similarity\n",
    "set1 = set(course1.split())\n",
    "set2 = set(course2.split())\n",
    "jaccard_idx_set = len(set1 & set2) / len(set1 | set2)"
   ]
  },
  {
   "cell_type": "code",
   "execution_count": 16,
   "id": "bcfbc228",
   "metadata": {},
   "outputs": [
    {
     "name": "stdout",
     "output_type": "stream",
     "text": [
      "Euclidean Distance: 0.0\n",
      "Jaccard Index (BoW): 1.0\n",
      "Jaccard Index (Set): 0.6\n"
     ]
    }
   ],
   "source": [
    "# Print  results\n",
    "print(\"Euclidean Distance:\", euclidean_dist)\n",
    "print(\"Jaccard Index (BoW):\", jaccard_idx_bow)\n",
    "print(\"Jaccard Index (Set):\", jaccard_idx_set)"
   ]
  },
  {
   "cell_type": "markdown",
   "id": "e75212b1",
   "metadata": {},
   "source": [
    "Euclidean distance between 2 points $p$ and $q$ can be summarized by this equation: $d(p,q)={\\sqrt {(p_{1}-q_{1})^{2}+(p_{2}-q_{2})^{2}+(p_{3}-q_{3})^{2}}}$."
   ]
  }
 ],
 "metadata": {
  "kernelspec": {
   "display_name": "venv",
   "language": "python",
   "name": "python3"
  },
  "language_info": {
   "codemirror_mode": {
    "name": "ipython",
    "version": 3
   },
   "file_extension": ".py",
   "mimetype": "text/x-python",
   "name": "python",
   "nbconvert_exporter": "python",
   "pygments_lexer": "ipython3",
   "version": "3.12.8"
  }
 },
 "nbformat": 4,
 "nbformat_minor": 5
}
